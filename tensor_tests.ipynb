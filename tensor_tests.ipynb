{
 "cells": [
  {
   "cell_type": "code",
   "execution_count": 1,
   "metadata": {
    "id": "AQXJBkClfURa"
   },
   "outputs": [],
   "source": [
    "import math\n",
    "import numpy as np\n",
    "import matplotlib.pyplot as plt"
   ]
  },
  {
   "cell_type": "code",
   "execution_count": 177,
   "metadata": {
    "id": "XLs_IDxtlVJj"
   },
   "outputs": [],
   "source": [
    "class Value:\n",
    "  def __init__(self, data, _children=(), _op='', label=''):\n",
    "    self.data = data \n",
    "    try:\n",
    "        self.grad = torch.zeros(data.shape)  # 0.0\n",
    "    except:\n",
    "        self.grad = torch.zeros(1)\n",
    "    self._backward = lambda: None\n",
    "    self._prev = set(_children)\n",
    "    self._op = _op\n",
    "    self.label = label\n",
    "\n",
    "  def __repr__(self):\n",
    "    return f\"Value(data={self.data}, label={self.label})\"\n",
    "\n",
    "  def __add__(self, other):\n",
    "    other = other if isinstance(other, Value) else Value(other)\n",
    "    out = Value(self.data + other.data, _children=(self, other), _op='+')\n",
    "\n",
    "    def _backward():\n",
    "      self.grad += out.grad\n",
    "      other.grad += out.grad\n",
    "    out._backward = _backward\n",
    "\n",
    "    return out\n",
    "\n",
    "  def __radd__(self, other):\n",
    "    return self + other\n",
    "\n",
    "  def __neg__(self):\n",
    "    return self * (-1)\n",
    "\n",
    "  def __sub__(self, other):\n",
    "    return self + -other\n",
    "\n",
    "  def __mul__(self, other):\n",
    "    other = other if isinstance(other, Value) else Value(other)\n",
    "    out = Value(self.data * other.data, _children=(self, other), _op='*')\n",
    "    def _backward():\n",
    "      self.grad += other.data * out.grad\n",
    "      other.grad += self.data * out.grad\n",
    "    out._backward = _backward\n",
    "    return out\n",
    "\n",
    "  def __pow__(self, other):\n",
    "    assert isinstance(other, (int, float))\n",
    "    out = Value(self.data**other, _children=(self,), _op=f'**{other}')\n",
    "\n",
    "    def _backward():\n",
    "      self.grad += other*self.data**(other-1) * out.grad\n",
    "    out._backward = _backward\n",
    "\n",
    "    return out\n",
    "\n",
    "  def __truediv__(self, other):\n",
    "    return self * other**(-1)\n",
    "\n",
    "  def tanh(self):\n",
    "    t = (np.exp(2*self.data)-1) / (np.exp(2*self.data)+1)\n",
    "    out = Value(t, _children=(self,), _op='tanh')\n",
    "    def _backward():\n",
    "      self.grad += (1-t**2) * out.grad\n",
    "    out._backward = _backward\n",
    "    return out\n",
    "\n",
    "  def __rmul__(self, other):\n",
    "    return self * other\n",
    "\n",
    "  def exp(self):\n",
    "    e = np.exp(self.data)\n",
    "    out = Value(e, _children=(self,), _op='exp')\n",
    "    def _backward():\n",
    "      self.grad += out.data * out.grad\n",
    "    out._backward = _backward\n",
    "    return out\n",
    "\n",
    "  def trace(self):\n",
    "    t = 0\n",
    "    for i in range(len(self.data)):\n",
    "        t += self.data[i,i]\n",
    "    out = Value(t, _children=(self,), _op='trace')\n",
    "    def _backward():\n",
    "        self.grad += torch.eye(len(self.data)) * out.grad\n",
    "        print('ha7na')\n",
    "    out._backward = _backward\n",
    "    return out\n",
    "\n",
    "  # most important method\n",
    "  def backward(self):\n",
    "    topo = []\n",
    "    visited = set()\n",
    "    def topo_sort(node):\n",
    "      if node not in visited:\n",
    "        visited.add(node)\n",
    "        for child in node._prev:\n",
    "          topo_sort(child)\n",
    "        topo.append(node)\n",
    "\n",
    "    topo_sort(self)\n",
    "    self.grad = 1.0\n",
    "    for node in reversed(topo):\n",
    "      print('node', node)\n",
    "      node._backward()\n"
   ]
  },
  {
   "cell_type": "code",
   "execution_count": 178,
   "metadata": {},
   "outputs": [
    {
     "name": "stdout",
     "output_type": "stream",
     "text": [
      "tensor([[0.3251, 0.1118],\n",
      "        [0.6071, 0.5368]], requires_grad=True)\n",
      "\n",
      "tensor([[0.9688, 0.1707],\n",
      "        [0.5806, 0.2206]], requires_grad=True)\n"
     ]
    }
   ],
   "source": [
    "a = torch.rand((2,2))\n",
    "b = torch.rand((2,2))\n",
    "a.requires_grad = True\n",
    "b.requires_grad = True\n",
    "print(a)\n",
    "print()\n",
    "print(b)"
   ]
  },
  {
   "cell_type": "code",
   "execution_count": 179,
   "metadata": {},
   "outputs": [
    {
     "data": {
      "text/plain": [
       "tensor(0.8619, grad_fn=<TraceBackward0>)"
      ]
     },
     "execution_count": 179,
     "metadata": {},
     "output_type": "execute_result"
    }
   ],
   "source": [
    "loss = torch.trace(a)\n",
    "loss"
   ]
  },
  {
   "cell_type": "code",
   "execution_count": 180,
   "metadata": {},
   "outputs": [],
   "source": [
    "loss.backward()"
   ]
  },
  {
   "cell_type": "code",
   "execution_count": 181,
   "metadata": {},
   "outputs": [
    {
     "data": {
      "text/plain": [
       "tensor([[1., 0.],\n",
       "        [0., 1.]])"
      ]
     },
     "execution_count": 181,
     "metadata": {},
     "output_type": "execute_result"
    }
   ],
   "source": [
    "a.grad"
   ]
  },
  {
   "cell_type": "code",
   "execution_count": null,
   "metadata": {},
   "outputs": [],
   "source": []
  },
  {
   "cell_type": "code",
   "execution_count": 182,
   "metadata": {},
   "outputs": [
    {
     "data": {
      "text/plain": [
       "Value(data=0.8618749380111694, label=loss)"
      ]
     },
     "execution_count": 182,
     "metadata": {},
     "output_type": "execute_result"
    }
   ],
   "source": [
    "a = Value(a, label='a')\n",
    "b = Value(b)\n",
    "loss = (a).trace(); loss.label='loss'\n",
    "loss"
   ]
  },
  {
   "cell_type": "code",
   "execution_count": 183,
   "metadata": {},
   "outputs": [
    {
     "name": "stdout",
     "output_type": "stream",
     "text": [
      "node Value(data=0.8618749380111694, label=loss)\n",
      "ha7na\n",
      "node Value(data=tensor([[0.3251, 0.1118],\n",
      "        [0.6071, 0.5368]], requires_grad=True), label=a)\n"
     ]
    }
   ],
   "source": [
    "loss.backward()"
   ]
  },
  {
   "cell_type": "code",
   "execution_count": 184,
   "metadata": {},
   "outputs": [
    {
     "name": "stdout",
     "output_type": "stream",
     "text": [
      "nodes {Value(data=0.8618749380111694, label=loss), Value(data=tensor([[0.3251, 0.1118],\n",
      "        [0.6071, 0.5368]], requires_grad=True), label=a)}\n",
      "edges {(Value(data=tensor([[0.3251, 0.1118],\n",
      "        [0.6071, 0.5368]], requires_grad=True), label=a), Value(data=0.8618749380111694, label=loss))}\n"
     ]
    }
   ],
   "source": [
    "from graphviz import Digraph\n",
    "\n",
    "def trace(root):\n",
    "    nodes, edges = set(), set()\n",
    "    def build(node):\n",
    "      if node not in nodes:\n",
    "        nodes.add(node)\n",
    "        for child in node._prev:\n",
    "          # nodes.add(child) # bad idea\n",
    "          edges.add((child, node))\n",
    "          build(child)\n",
    "    build(root)\n",
    "    return nodes, edges\n",
    "\n",
    "def draw_graph(root):\n",
    "  dot = Digraph(format='svg', graph_attr={'rankdir':'LR'})\n",
    "  nodes, edges = trace(root)\n",
    "\n",
    "  for n in nodes:\n",
    "    uid = str(id(n))\n",
    "    dot.node(name = uid, label = f\"{n.label}|data {n.data}|grad {n.grad}\", shape='record')\n",
    "    if n._op:\n",
    "      dot.node(name = uid + n._op, label=n._op)\n",
    "      dot.edge(uid + n._op, uid)\n",
    "  for n1, n2 in edges:\n",
    "    uid1, uid2 = str(id(n1)), str(id(n2))\n",
    "    dot.edge(uid1, uid2+n2._op)\n",
    "\n",
    "  return dot\n",
    "    \n",
    "nodes, edges = trace(loss)\n",
    "print('nodes', nodes)\n",
    "print('edges', edges)"
   ]
  },
  {
   "cell_type": "code",
   "execution_count": 185,
   "metadata": {},
   "outputs": [
    {
     "data": {
      "image/svg+xml": [
       "<?xml version=\"1.0\" encoding=\"UTF-8\" standalone=\"no\"?>\n",
       "<!DOCTYPE svg PUBLIC \"-//W3C//DTD SVG 1.1//EN\"\n",
       " \"http://www.w3.org/Graphics/SVG/1.1/DTD/svg11.dtd\">\n",
       "<!-- Generated by graphviz version 12.0.0 (0)\n",
       " -->\n",
       "<!-- Pages: 1 -->\n",
       "<svg width=\"694pt\" height=\"76pt\"\n",
       " viewBox=\"0.00 0.00 694.00 75.75\" xmlns=\"http://www.w3.org/2000/svg\" xmlns:xlink=\"http://www.w3.org/1999/xlink\">\n",
       "<g id=\"graph0\" class=\"graph\" transform=\"scale(1 1) rotate(0) translate(4 71.75)\">\n",
       "<polygon fill=\"white\" stroke=\"none\" points=\"-4,4 -4,-71.75 690,-71.75 690,4 -4,4\"/>\n",
       "<!-- 4662765072 -->\n",
       "<g id=\"node1\" class=\"node\">\n",
       "<title>4662765072</title>\n",
       "<polygon fill=\"none\" stroke=\"black\" points=\"525.25,-0.5 525.25,-67.25 686,-67.25 686,-0.5 525.25,-0.5\"/>\n",
       "<text text-anchor=\"middle\" x=\"605.62\" y=\"-49.95\" font-family=\"Times,serif\" font-size=\"14.00\">loss</text>\n",
       "<polyline fill=\"none\" stroke=\"black\" points=\"525.25,-45 686,-45\"/>\n",
       "<text text-anchor=\"middle\" x=\"605.62\" y=\"-27.7\" font-family=\"Times,serif\" font-size=\"14.00\">data 0.8618749380111694</text>\n",
       "<polyline fill=\"none\" stroke=\"black\" points=\"525.25,-22.75 686,-22.75\"/>\n",
       "<text text-anchor=\"middle\" x=\"605.62\" y=\"-5.45\" font-family=\"Times,serif\" font-size=\"14.00\">grad 1.0</text>\n",
       "</g>\n",
       "<!-- 4662765072trace -->\n",
       "<g id=\"node2\" class=\"node\">\n",
       "<title>4662765072trace</title>\n",
       "<ellipse fill=\"none\" stroke=\"black\" cx=\"462.25\" cy=\"-33.88\" rx=\"27\" ry=\"18\"/>\n",
       "<text text-anchor=\"middle\" x=\"462.25\" y=\"-27.7\" font-family=\"Times,serif\" font-size=\"14.00\">trace</text>\n",
       "</g>\n",
       "<!-- 4662765072trace&#45;&gt;4662765072 -->\n",
       "<g id=\"edge1\" class=\"edge\">\n",
       "<title>4662765072trace&#45;&gt;4662765072</title>\n",
       "<path fill=\"none\" stroke=\"black\" d=\"M489.51,-33.88C496.75,-33.88 505.04,-33.88 513.78,-33.88\"/>\n",
       "<polygon fill=\"black\" stroke=\"black\" points=\"513.53,-37.38 523.53,-33.88 513.53,-30.38 513.53,-37.38\"/>\n",
       "</g>\n",
       "<!-- 5188870256 -->\n",
       "<g id=\"node3\" class=\"node\">\n",
       "<title>5188870256</title>\n",
       "<polygon fill=\"none\" stroke=\"black\" points=\"0,-0.5 0,-67.25 399.25,-67.25 399.25,-0.5 0,-0.5\"/>\n",
       "<text text-anchor=\"middle\" x=\"199.62\" y=\"-49.95\" font-family=\"Times,serif\" font-size=\"14.00\">a</text>\n",
       "<polyline fill=\"none\" stroke=\"black\" points=\"0,-45 399.25,-45\"/>\n",
       "<text text-anchor=\"middle\" x=\"199.62\" y=\"-27.7\" font-family=\"Times,serif\" font-size=\"14.00\">data tensor([[0.3251, 0.1118], [0.6071, 0.5368]], requires_grad=True)</text>\n",
       "<polyline fill=\"none\" stroke=\"black\" points=\"0,-22.75 399.25,-22.75\"/>\n",
       "<text text-anchor=\"middle\" x=\"199.62\" y=\"-5.45\" font-family=\"Times,serif\" font-size=\"14.00\">grad tensor([[1., 0.], [0., 1.]])</text>\n",
       "</g>\n",
       "<!-- 5188870256&#45;&gt;4662765072trace -->\n",
       "<g id=\"edge2\" class=\"edge\">\n",
       "<title>5188870256&#45;&gt;4662765072trace</title>\n",
       "<path fill=\"none\" stroke=\"black\" d=\"M399.49,-33.88C408.14,-33.88 416.24,-33.88 423.53,-33.88\"/>\n",
       "<polygon fill=\"black\" stroke=\"black\" points=\"423.5,-37.38 433.5,-33.88 423.5,-30.38 423.5,-37.38\"/>\n",
       "</g>\n",
       "</g>\n",
       "</svg>\n"
      ],
      "text/plain": [
       "<graphviz.graphs.Digraph at 0x1351f7700>"
      ]
     },
     "execution_count": 185,
     "metadata": {},
     "output_type": "execute_result"
    }
   ],
   "source": [
    "draw_graph(loss)"
   ]
  },
  {
   "cell_type": "markdown",
   "metadata": {},
   "source": [
    "Mchit ntalel fo9 sor khroj 3liya a Tensor\n",
    "---"
   ]
  },
  {
   "cell_type": "code",
   "execution_count": null,
   "metadata": {},
   "outputs": [],
   "source": [
    "class Tensor:\n",
    "    def __init__(self, data, _children=(), _op='', label=''):\n",
    "        self.data = data\n",
    "        self.grad = 0.0\n",
    "        self._backward = lambda: None\n",
    "        self._prev = set(_children)\n",
    "        self._op = _op\n",
    "        self.label = label\n",
    "        "
   ]
  },
  {
   "cell_type": "code",
   "execution_count": null,
   "metadata": {
    "id": "4j-hgCxOocSY"
   },
   "outputs": [],
   "source": [
    "from graphviz import Digraph\n",
    "\n",
    "def trace(root):\n",
    "    nodes, edges = set(), set()\n",
    "    def build(node):\n",
    "      if node not in nodes:\n",
    "        nodes.add(node)\n",
    "        for child in node._prev:\n",
    "          # nodes.add(child) # bad idea\n",
    "          edges.add((child, node))\n",
    "          build(child)\n",
    "    build(root)\n",
    "    return nodes, edges\n",
    "\n",
    "def draw_graph(root):\n",
    "  dot = Digraph(format='svg', graph_attr={'rankdir':'LR'})\n",
    "  nodes, edges = trace(root)\n",
    "\n",
    "  for n in nodes:\n",
    "    uid = str(id(n))\n",
    "    dot.node(name = uid, label = f\"{n.label}|data {n.data: .4f}|grad {n.grad: .4f}\", shape='record')\n",
    "    if n._op:\n",
    "      dot.node(name = uid + n._op, label=n._op)\n",
    "      dot.edge(uid + n._op, uid)\n",
    "  for n1, n2 in edges:\n",
    "    uid1, uid2 = str(id(n1)), str(id(n2))\n",
    "    dot.edge(uid1, uid2+n2._op)\n",
    "\n",
    "  return dot"
   ]
  },
  {
   "cell_type": "code",
   "execution_count": null,
   "metadata": {
    "id": "Dw2rvSBchLnl"
   },
   "outputs": [],
   "source": [
    "x1 = Value(1, label='x1')\n",
    "x2 = Value(0, label='x2')\n",
    "w1 = Value(-0.7, label='w1')\n",
    "w2 = Value(0.2, label='w2')\n",
    "b = Value(0.45, label='b')\n",
    "x1w1 = x1*w1; x1w1.label='x1w1'\n",
    "x2w2 = x2*w2; x2w2.label='x2w2'\n",
    "in_prod = x1w1 + x2w2; in_prod.label='x1w1 + x2w2'\n",
    "n = in_prod + b; n.label='n'\n",
    "e = (2*n).exp()\n",
    "o = (e -1) / (e + 1); o.label='o'\n",
    "# o = n.tanh(); o.label='o'\n",
    "o.backward()"
   ]
  },
  {
   "cell_type": "code",
   "execution_count": null,
   "metadata": {
    "colab": {
     "base_uri": "https://localhost:8080/",
     "height": 557
    },
    "id": "SZPngVHZdey3",
    "outputId": "d399c7f2-2ec0-4271-ee40-0e4357ccf784"
   },
   "outputs": [],
   "source": [
    "draw_graph(o)"
   ]
  },
  {
   "cell_type": "code",
   "execution_count": null,
   "metadata": {
    "id": "5vKbobpegzQU"
   },
   "outputs": [],
   "source": [
    "class Neuron:\n",
    "  def __init__(self, n_input):\n",
    "    self.w = [Value(np.random.uniform(-1,1)) for _ in range(n_input)]\n",
    "    self.b = Value(np.random.uniform(-1,1), label='b')\n",
    "\n",
    "  def __call__(self, x):\n",
    "    out = sum((wi*xi for wi, xi in zip(self.w,x)), self.b)\n",
    "    return out.tanh()\n",
    "\n",
    "  def parameters(self):\n",
    "    return self.w\n",
    "\n",
    "class Layer:\n",
    "  def __init__(self, n_input, n_out):\n",
    "    self.neurons = [Neuron(n_input) for _ in range(n_out)]\n",
    "\n",
    "  def __call__(self, x):\n",
    "    outs = [n(x) for n in self.neurons]\n",
    "    return outs[0] if len(outs)==1 else outs\n",
    "\n",
    "  def parameters(self):\n",
    "    params = []\n",
    "    for neuron in self.neurons:\n",
    "      params.extend(neuron.parameters())\n",
    "    return params\n",
    "\n",
    "class MLP:\n",
    "  def __init__(self, n_input, n_outs):\n",
    "    self.layers = []\n",
    "    self.layers.append(Layer(n_input, n_outs[0]))\n",
    "    for i in range(len(n_outs)-1):\n",
    "      l = Layer(n_outs[i], n_outs[i+1])\n",
    "      self.layers.append(l)\n",
    "\n",
    "  def __call__(self, x):\n",
    "    z = x\n",
    "    for layer in self.layers:\n",
    "      z = layer(z)\n",
    "    return z\n",
    "\n",
    "  def parameters(self):\n",
    "    params = []\n",
    "    for layer in self.layers:\n",
    "      layer_param = layer.parameters()\n",
    "      params.extend(layer.parameters())\n",
    "    return params"
   ]
  },
  {
   "cell_type": "code",
   "execution_count": null,
   "metadata": {
    "id": "YtTn_CNclIsz"
   },
   "outputs": [],
   "source": [
    "def mse_loss(ypred, ytrue):\n",
    "  loss = sum((ypred_i - ytrue_i)**2 for ypred_i, ytrue_i in zip(ypred, ytrue))\n",
    "  return loss"
   ]
  },
  {
   "cell_type": "code",
   "execution_count": null,
   "metadata": {
    "id": "z4AaMaRH5ZNR"
   },
   "outputs": [],
   "source": [
    "xs = [[2,3,-1],\n",
    "      [3,-1,0.5],\n",
    "      [0.5,1,1],\n",
    "      [1,1,-1]]\n",
    "\n",
    "ys = [1.0,-1.0,-1.0,1.0]\n",
    "model = MLP(3, [4,4,1])"
   ]
  },
  {
   "cell_type": "code",
   "execution_count": null,
   "metadata": {
    "colab": {
     "base_uri": "https://localhost:8080/"
    },
    "id": "MjVXR146sml7",
    "outputId": "8e157452-b6cf-4029-efa8-5c62337e9004"
   },
   "outputs": [],
   "source": [
    "lr = 0.1\n",
    "\n",
    "loss_all = 0\n",
    "\n",
    "for epoch in range(100):\n",
    "    # forward pass\n",
    "    ypreds = [model(x) for x in xs]\n",
    "    loss = mse_loss(ypreds, ys)\n",
    "\n",
    "    # backward pass\n",
    "    loss.backward()\n",
    "\n",
    "    # update\n",
    "    params = model.parameters()\n",
    "    # print(f'grad {params[0].grad: 0.4f}')\n",
    "    for p in model.parameters():\n",
    "      p.data -= lr*p.grad\n",
    "      p.grad = 0.0\n",
    "\n",
    "    if epoch % 5 == 0:\n",
    "      print(f'epoch {epoch}, loss {loss.data: 0.4f}')\n",
    "\n"
   ]
  },
  {
   "cell_type": "code",
   "execution_count": null,
   "metadata": {
    "colab": {
     "base_uri": "https://localhost:8080/"
    },
    "id": "d6IDkHFxpoyw",
    "outputId": "986e12a1-60b3-4bc9-fedd-a48c88bfe06c"
   },
   "outputs": [],
   "source": [
    "outs = [model(x) for x in xs]\n",
    "outs"
   ]
  },
  {
   "cell_type": "markdown",
   "metadata": {
    "id": "BhufGGOS_AIO"
   },
   "source": [
    "Moon Dataset - MLP\n",
    "---"
   ]
  },
  {
   "cell_type": "code",
   "execution_count": null,
   "metadata": {
    "colab": {
     "base_uri": "https://localhost:8080/",
     "height": 463
    },
    "id": "8qrijZ-A4c9m",
    "outputId": "6ace3dbb-c040-40c0-84d7-d1d3db00d33f"
   },
   "outputs": [],
   "source": [
    "from sklearn.datasets import make_moons, make_blobs\n",
    "X, y = make_moons(n_samples=100, noise=0.1)\n",
    "\n",
    "y = y*2 - 1 # make y be -1 or 1\n",
    "# visualize in 2D\n",
    "plt.figure(figsize=(5,5))\n",
    "plt.scatter(X[:,0], X[:,1], c=y, s=20, cmap='jet')"
   ]
  },
  {
   "cell_type": "code",
   "execution_count": null,
   "metadata": {
    "colab": {
     "base_uri": "https://localhost:8080/"
    },
    "id": "_bPD4i8S8284",
    "outputId": "330003d7-9d0c-4871-83c5-9c5e18c7f60d"
   },
   "outputs": [],
   "source": [
    "model = MLP(2, [10,10,1])\n",
    "print(f'number of params: {len(model.parameters())}')"
   ]
  },
  {
   "cell_type": "code",
   "execution_count": null,
   "metadata": {
    "colab": {
     "base_uri": "https://localhost:8080/"
    },
    "id": "obR1pdn7_axO",
    "outputId": "78bc6827-c140-4618-d9b7-98c152835994"
   },
   "outputs": [],
   "source": [
    "lr = 0.01\n",
    "\n",
    "loss_all = 0\n",
    "\n",
    "for epoch in range(100):\n",
    "    # forward pass\n",
    "    ypreds = [model(x) for x in X]\n",
    "    loss = mse_loss(ypreds, y)\n",
    "\n",
    "    # backward pass\n",
    "    for p in model.parameters():\n",
    "      p.grad = 0.0\n",
    "\n",
    "    loss.backward()\n",
    "\n",
    "    # update\n",
    "    for p in model.parameters():\n",
    "      p.data -= lr*p.grad\n",
    "\n",
    "    if epoch % 5 == 0:\n",
    "      print(f'epoch {epoch}, loss {loss.data: 0.4f}')"
   ]
  },
  {
   "cell_type": "code",
   "execution_count": null,
   "metadata": {
    "colab": {
     "base_uri": "https://localhost:8080/",
     "height": 448
    },
    "id": "LoBkmiah_vx2",
    "outputId": "7cc5cc96-0037-4d79-80fa-9e0d0d524185"
   },
   "outputs": [],
   "source": [
    "# visualize decision boundary\n",
    "\n",
    "h = 0.25\n",
    "x_min, x_max = X[:, 0].min() - 1, X[:, 0].max() + 1\n",
    "y_min, y_max = X[:, 1].min() - 1, X[:, 1].max() + 1\n",
    "xx, yy = np.meshgrid(np.arange(x_min, x_max, h),\n",
    "                     np.arange(y_min, y_max, h))\n",
    "Xmesh = np.c_[xx.ravel(), yy.ravel()]\n",
    "inputs = [list(map(Value, xrow)) for xrow in Xmesh]\n",
    "scores = list(map(model, inputs))\n",
    "Z = np.array([s.data > 0 for s in scores])\n",
    "Z = Z.reshape(xx.shape)\n",
    "\n",
    "fig = plt.figure()\n",
    "plt.contourf(xx, yy, Z, cmap=plt.cm.Spectral, alpha=0.8)\n",
    "plt.scatter(X[:, 0], X[:, 1], c=y, s=40, cmap=plt.cm.Spectral)\n",
    "plt.xlim(xx.min(), xx.max())\n",
    "plt.ylim(yy.min(), yy.max())"
   ]
  },
  {
   "cell_type": "markdown",
   "metadata": {
    "id": "WFm2J1gXDJ7T"
   },
   "source": [
    "MNIST dataset - MLP\n",
    "---"
   ]
  },
  {
   "cell_type": "code",
   "execution_count": null,
   "metadata": {
    "colab": {
     "base_uri": "https://localhost:8080/"
    },
    "id": "-saIaJYiBVnW",
    "outputId": "0e0a954c-a484-4803-f49d-d0750c0c31eb"
   },
   "outputs": [],
   "source": [
    "# from torchvision.datasets import MNIST\n",
    "# import torchvision.transforms as T\n",
    "# import torch\n",
    "# import torchvision\n",
    "\n",
    "# DATASET_PATH = \"./data\"\n",
    "\n",
    "# # Transform to normalized Tensors in the range [0,1]\n",
    "# MNIST_train_dataset = MNIST(root=DATASET_PATH, train= True, download=True, transform=T.Compose([T.Pad(2), T.ToTensor()]))\n",
    "# MNIST_test_dataset = MNIST(root=DATASET_PATH, train= False, download=True, transform=T.Compose([T.Pad(2), T.ToTensor()]))"
   ]
  },
  {
   "cell_type": "code",
   "execution_count": null,
   "metadata": {
    "colab": {
     "base_uri": "https://localhost:8080/",
     "height": 270
    },
    "id": "Ej5aNpYDDnD9",
    "outputId": "0fde807c-32e2-4c20-e139-644e191e5b67"
   },
   "outputs": [],
   "source": [
    "# # Visualize some examples\n",
    "# NUM_IMAGES = 12\n",
    "# MNIST_images = torch.stack([MNIST_train_dataset[np.random.randint(len(MNIST_train_dataset))][0] for idx in range(NUM_IMAGES)], dim=0)\n",
    "# img_grid = torchvision.utils.make_grid(MNIST_images, nrow=6, normalize=True, pad_value=0.9)\n",
    "# img_grid = img_grid.permute(1, 2, 0)\n",
    "\n",
    "# plt.figure(figsize=(8,8))\n",
    "# plt.title(\"Image examples of the MNIST dataset\")\n",
    "# plt.imshow(img_grid)\n",
    "# plt.axis('off')\n",
    "# plt.show()\n",
    "# plt.close()"
   ]
  },
  {
   "cell_type": "code",
   "execution_count": null,
   "metadata": {
    "id": "2Xmo_ThSD4BO"
   },
   "outputs": [],
   "source": [
    "# n_samples = 10\n",
    "# MNIST_Xtrain_255 = MNIST_train_dataset.data.numpy()\n",
    "# MNIST_ytrain_255 = MNIST_train_dataset.targets.numpy()\n",
    "\n",
    "# MNIST_Xtrain_255 = MNIST_Xtrain_255[:n_samples]\n",
    "# MNIST_ytrain_255 = MNIST_ytrain_255[:n_samples]"
   ]
  },
  {
   "cell_type": "code",
   "execution_count": null,
   "metadata": {
    "id": "jEylcuawFee7"
   },
   "outputs": [],
   "source": [
    "# X = MNIST_Xtrain_255/255\n",
    "# y = MNIST_ytrain_255"
   ]
  },
  {
   "cell_type": "code",
   "execution_count": null,
   "metadata": {
    "colab": {
     "base_uri": "https://localhost:8080/"
    },
    "id": "KTiO8TquGXDU",
    "outputId": "338104aa-86c8-4c3b-9112-614e458da29c"
   },
   "outputs": [],
   "source": [
    "# for x in X:\n",
    "#   print(x.flatten().shape)\n",
    "#   # print(x)\n",
    "#   break"
   ]
  },
  {
   "cell_type": "code",
   "execution_count": null,
   "metadata": {
    "colab": {
     "base_uri": "https://localhost:8080/"
    },
    "id": "wmQRlGTYFPtL",
    "outputId": "f0bfec27-9c63-45b2-d33f-219af3500179"
   },
   "outputs": [],
   "source": [
    "# model = MLP(28*28, [30,30,10])\n",
    "# print(f'number of params: {len(model.parameters())}')"
   ]
  },
  {
   "cell_type": "code",
   "execution_count": null,
   "metadata": {
    "colab": {
     "base_uri": "https://localhost:8080/"
    },
    "id": "L4J6aSvbJFP4",
    "outputId": "4453218a-d92f-4915-9894-b15126e37ac4"
   },
   "outputs": [],
   "source": [
    "# ypreds = [model(x.flatten()) for x in X]"
   ]
  },
  {
   "cell_type": "code",
   "execution_count": null,
   "metadata": {
    "colab": {
     "base_uri": "https://localhost:8080/"
    },
    "id": "KCqkYzg6KEdh",
    "outputId": "67791977-06bb-4a50-a89c-7df4474bfbf0"
   },
   "outputs": [],
   "source": [
    "# y"
   ]
  },
  {
   "cell_type": "code",
   "execution_count": null,
   "metadata": {
    "colab": {
     "base_uri": "https://localhost:8080/",
     "height": 219
    },
    "id": "mxZzizHPFblY",
    "outputId": "6ce1a4b6-ff75-4541-ad4d-40c8ccd22a74"
   },
   "outputs": [],
   "source": [
    "# lr = 0.01\n",
    "\n",
    "# loss_all = 0\n",
    "\n",
    "# for epoch in range(10):\n",
    "#     # forward pass\n",
    "#     ypreds = [model(x.flatten()) for x in X]\n",
    "#     loss = mse_loss(ypreds, y)\n",
    "\n",
    "#     # backward pass\n",
    "#     for p in model.parameters():\n",
    "#       p.grad = 0.0\n",
    "\n",
    "#     loss.backward()\n",
    "\n",
    "#     # update\n",
    "#     for p in model.parameters():\n",
    "#       p.data -= lr*p.grad\n",
    "\n",
    "#     if epoch % 1 == 0:\n",
    "#       print(f'epoch {epoch}, loss {loss.data: 0.4f}')"
   ]
  },
  {
   "cell_type": "code",
   "execution_count": null,
   "metadata": {
    "id": "BZ1qGJGkF_sP"
   },
   "outputs": [],
   "source": []
  }
 ],
 "metadata": {
  "colab": {
   "provenance": []
  },
  "kernelspec": {
   "display_name": "Python 3 (ipykernel)",
   "language": "python",
   "name": "python3"
  },
  "language_info": {
   "codemirror_mode": {
    "name": "ipython",
    "version": 3
   },
   "file_extension": ".py",
   "mimetype": "text/x-python",
   "name": "python",
   "nbconvert_exporter": "python",
   "pygments_lexer": "ipython3",
   "version": "3.12.2"
  }
 },
 "nbformat": 4,
 "nbformat_minor": 4
}
